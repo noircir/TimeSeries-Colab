{
  "nbformat": 4,
  "nbformat_minor": 0,
  "metadata": {
    "anaconda-cloud": {},
    "kernelspec": {
      "name": "python3",
      "display_name": "Python 3"
    },
    "language_info": {
      "codemirror_mode": {
        "name": "ipython",
        "version": 3
      },
      "file_extension": ".py",
      "mimetype": "text/x-python",
      "name": "python",
      "nbconvert_exporter": "python",
      "pygments_lexer": "ipython3",
      "version": "3.7.2"
    },
    "colab": {
      "name": "00-Datetime-Index.ipynb",
      "provenance": [],
      "include_colab_link": true
    },
    "accelerator": "GPU"
  },
  "cells": [
    {
      "cell_type": "markdown",
      "metadata": {
        "id": "view-in-github",
        "colab_type": "text"
      },
      "source": [
        "<a href=\"https://colab.research.google.com/github/noircir/TimeSeries-Colab/blob/master/00_Datetime_Index.ipynb\" target=\"_parent\"><img src=\"https://colab.research.google.com/assets/colab-badge.svg\" alt=\"Open In Colab\"/></a>"
      ]
    },
    {
      "cell_type": "markdown",
      "metadata": {
        "id": "JFfqW9KKJGrK",
        "colab_type": "text"
      },
      "source": [
        "___\n",
        "\n",
        "<a href='http://www.pieriandata.com'><img src='../Pierian_Data_Logo.png'/></a>\n",
        "___\n",
        "<center><em>Copyright Pierian Data</em></center>\n",
        "<center><em>For more information, visit us at <a href='http://www.pieriandata.com'>www.pieriandata.com</a></em></center>"
      ]
    },
    {
      "cell_type": "code",
      "metadata": {
        "id": "noBnLpoGJOgS",
        "colab_type": "code",
        "colab": {
          "base_uri": "https://localhost:8080/",
          "height": 122
        },
        "outputId": "5b2fe6bb-54a6-45a8-9f24-da86b106b4b9"
      },
      "source": [
        "from google.colab import drive\n",
        "drive.mount('/content/drive')"
      ],
      "execution_count": 1,
      "outputs": [
        {
          "output_type": "stream",
          "text": [
            "Go to this URL in a browser: https://accounts.google.com/o/oauth2/auth?client_id=947318989803-6bn6qk8qdgf4n4g3pfee6491hc0brc4i.apps.googleusercontent.com&redirect_uri=urn%3aietf%3awg%3aoauth%3a2.0%3aoob&response_type=code&scope=email%20https%3a%2f%2fwww.googleapis.com%2fauth%2fdocs.test%20https%3a%2f%2fwww.googleapis.com%2fauth%2fdrive%20https%3a%2f%2fwww.googleapis.com%2fauth%2fdrive.photos.readonly%20https%3a%2f%2fwww.googleapis.com%2fauth%2fpeopleapi.readonly\n",
            "\n",
            "Enter your authorization code:\n",
            "··········\n",
            "Mounted at /content/drive\n"
          ],
          "name": "stdout"
        }
      ]
    },
    {
      "cell_type": "markdown",
      "metadata": {
        "id": "gsqpSAmlJGrN",
        "colab_type": "text"
      },
      "source": [
        "# Introduction to Time Series with Pandas\n",
        "\n",
        "Most of our data will have a datatime index, so let's learn how to deal with this sort of data with pandas!"
      ]
    },
    {
      "cell_type": "markdown",
      "metadata": {
        "id": "-n_cLClpJGrO",
        "colab_type": "text"
      },
      "source": [
        "## Python Datetime Review\n",
        "In the course introduction section we discussed Python datetime objects."
      ]
    },
    {
      "cell_type": "code",
      "metadata": {
        "id": "aKcBd_tSJGrQ",
        "colab_type": "code",
        "colab": {}
      },
      "source": [
        "from datetime import datetime"
      ],
      "execution_count": 0,
      "outputs": []
    },
    {
      "cell_type": "code",
      "metadata": {
        "id": "U4D_4j9pJGrW",
        "colab_type": "code",
        "colab": {}
      },
      "source": [
        "# To illustrate the order of arguments\n",
        "my_year = 2017\n",
        "my_month = 1\n",
        "my_day = 2\n",
        "my_hour = 13\n",
        "my_minute = 30\n",
        "my_second = 15"
      ],
      "execution_count": 0,
      "outputs": []
    },
    {
      "cell_type": "code",
      "metadata": {
        "id": "dytl7ylpJGrY",
        "colab_type": "code",
        "colab": {}
      },
      "source": [
        "# January 2nd, 2017\n",
        "my_date = datetime(my_year,my_month,my_day)"
      ],
      "execution_count": 0,
      "outputs": []
    },
    {
      "cell_type": "code",
      "metadata": {
        "id": "W_JpJSoZJGrb",
        "colab_type": "code",
        "colab": {
          "base_uri": "https://localhost:8080/",
          "height": 34
        },
        "outputId": "8f913857-d942-4a6b-eaa3-28db816626cf"
      },
      "source": [
        "# Defaults to 0:00\n",
        "my_date "
      ],
      "execution_count": 5,
      "outputs": [
        {
          "output_type": "execute_result",
          "data": {
            "text/plain": [
              "datetime.datetime(2017, 1, 2, 0, 0)"
            ]
          },
          "metadata": {
            "tags": []
          },
          "execution_count": 5
        }
      ]
    },
    {
      "cell_type": "code",
      "metadata": {
        "id": "m-aUycfDJGrf",
        "colab_type": "code",
        "colab": {}
      },
      "source": [
        "# January 2nd, 2017 at 13:30:15\n",
        "my_date_time = datetime(my_year,my_month,my_day,my_hour,my_minute,my_second)"
      ],
      "execution_count": 0,
      "outputs": []
    },
    {
      "cell_type": "code",
      "metadata": {
        "id": "VflxycimJGrh",
        "colab_type": "code",
        "colab": {
          "base_uri": "https://localhost:8080/",
          "height": 34
        },
        "outputId": "4f8dc76d-d441-4575-a505-2b67883b5f50"
      },
      "source": [
        "my_date_time"
      ],
      "execution_count": 7,
      "outputs": [
        {
          "output_type": "execute_result",
          "data": {
            "text/plain": [
              "datetime.datetime(2017, 1, 2, 13, 30, 15)"
            ]
          },
          "metadata": {
            "tags": []
          },
          "execution_count": 7
        }
      ]
    },
    {
      "cell_type": "markdown",
      "metadata": {
        "id": "lytoWBiGJGrk",
        "colab_type": "text"
      },
      "source": [
        "You can grab any part of the datetime object you want"
      ]
    },
    {
      "cell_type": "code",
      "metadata": {
        "id": "nm1-Dm8_JGrl",
        "colab_type": "code",
        "colab": {
          "base_uri": "https://localhost:8080/",
          "height": 34
        },
        "outputId": "58e8fc38-e9ec-4706-f1d8-3d2a510cd059"
      },
      "source": [
        "my_date.day"
      ],
      "execution_count": 8,
      "outputs": [
        {
          "output_type": "execute_result",
          "data": {
            "text/plain": [
              "2"
            ]
          },
          "metadata": {
            "tags": []
          },
          "execution_count": 8
        }
      ]
    },
    {
      "cell_type": "code",
      "metadata": {
        "id": "Ds-yGmxDJGrn",
        "colab_type": "code",
        "colab": {
          "base_uri": "https://localhost:8080/",
          "height": 34
        },
        "outputId": "b77b9c5b-28ed-4192-fa7e-c68d53786237"
      },
      "source": [
        "my_date_time.hour"
      ],
      "execution_count": 9,
      "outputs": [
        {
          "output_type": "execute_result",
          "data": {
            "text/plain": [
              "13"
            ]
          },
          "metadata": {
            "tags": []
          },
          "execution_count": 9
        }
      ]
    },
    {
      "cell_type": "markdown",
      "metadata": {
        "id": "07CZop4yJGrs",
        "colab_type": "text"
      },
      "source": [
        "## NumPy Datetime Arrays\n",
        "We mentioned that NumPy handles dates more efficiently than Python's datetime format.<br>\n",
        "The NumPy data type is called <em>datetime64</em> to distinguish it from Python's datetime.\n",
        "\n",
        "In this section we'll show how to set up datetime arrays in NumPy. These will become useful later on in the course.<br>\n",
        "For more info on NumPy visit https://docs.scipy.org/doc/numpy-1.15.4/reference/arrays.datetime.html"
      ]
    },
    {
      "cell_type": "code",
      "metadata": {
        "id": "3S_R1FnKJGrs",
        "colab_type": "code",
        "colab": {}
      },
      "source": [
        "import numpy as np"
      ],
      "execution_count": 0,
      "outputs": []
    },
    {
      "cell_type": "code",
      "metadata": {
        "id": "iNDKNVETJGrw",
        "colab_type": "code",
        "colab": {
          "base_uri": "https://localhost:8080/",
          "height": 34
        },
        "outputId": "a46d8186-0357-4cd4-d82a-fe396c2fe075"
      },
      "source": [
        "# CREATE AN ARRAY FROM THREE DATES\n",
        "np.array(['2016-03-15', '2017-05-24', '2018-08-09'], dtype='datetime64')"
      ],
      "execution_count": 11,
      "outputs": [
        {
          "output_type": "execute_result",
          "data": {
            "text/plain": [
              "array(['2016-03-15', '2017-05-24', '2018-08-09'], dtype='datetime64[D]')"
            ]
          },
          "metadata": {
            "tags": []
          },
          "execution_count": 11
        }
      ]
    },
    {
      "cell_type": "markdown",
      "metadata": {
        "id": "aHNZDPhRJGrz",
        "colab_type": "text"
      },
      "source": [
        "<div class=\"alert alert-info\"><strong>NOTE:</strong> We see the dtype listed as <tt>'datetime64[D]'</tt>. This tells us that NumPy applied a day-level date precision.<br>\n",
        "    If we want we can pass in a different measurement, such as <TT>[h]</TT> for hour or <TT>[Y]</TT> for year.</div>"
      ]
    },
    {
      "cell_type": "code",
      "metadata": {
        "id": "vNk9g0cgJGr0",
        "colab_type": "code",
        "colab": {
          "base_uri": "https://localhost:8080/",
          "height": 51
        },
        "outputId": "f8bba96d-201b-4e0e-a69b-42cdef55dfa9"
      },
      "source": [
        "np.array(['2016-03-15', '2017-05-24', '2018-08-09'], dtype='datetime64[h]')"
      ],
      "execution_count": 12,
      "outputs": [
        {
          "output_type": "execute_result",
          "data": {
            "text/plain": [
              "array(['2016-03-15T00', '2017-05-24T00', '2018-08-09T00'],\n",
              "      dtype='datetime64[h]')"
            ]
          },
          "metadata": {
            "tags": []
          },
          "execution_count": 12
        }
      ]
    },
    {
      "cell_type": "code",
      "metadata": {
        "id": "YW8NBsyKJGr2",
        "colab_type": "code",
        "colab": {
          "base_uri": "https://localhost:8080/",
          "height": 34
        },
        "outputId": "73d6dd6f-b43a-4450-a9c0-71f97c932c34"
      },
      "source": [
        "np.array(['2016-03-15', '2017-05-24', '2018-08-09'], dtype='datetime64[Y]')"
      ],
      "execution_count": 13,
      "outputs": [
        {
          "output_type": "execute_result",
          "data": {
            "text/plain": [
              "array(['2016', '2017', '2018'], dtype='datetime64[Y]')"
            ]
          },
          "metadata": {
            "tags": []
          },
          "execution_count": 13
        }
      ]
    },
    {
      "cell_type": "markdown",
      "metadata": {
        "id": "NS4o-UTAJGr4",
        "colab_type": "text"
      },
      "source": [
        "## NumPy Date Ranges\n",
        "Just as <tt>np.arange(start,stop,step)</tt> can be used to produce an array of evenly-spaced integers, we can pass a <tt>dtype</tt> argument to obtain an array of dates. Remember that the stop date is <em>exclusive</em>."
      ]
    },
    {
      "cell_type": "code",
      "metadata": {
        "id": "bXSH8mXAJGr5",
        "colab_type": "code",
        "colab": {
          "base_uri": "https://localhost:8080/",
          "height": 51
        },
        "outputId": "642d2089-756f-4d1d-b88f-7ff008b99510"
      },
      "source": [
        "# AN ARRAY OF DATES FROM 6/1/18 TO 6/22/18 SPACED ONE WEEK APART\n",
        "np.arange('2018-06-01', '2018-06-23', 7, dtype='datetime64[D]')"
      ],
      "execution_count": 14,
      "outputs": [
        {
          "output_type": "execute_result",
          "data": {
            "text/plain": [
              "array(['2018-06-01', '2018-06-08', '2018-06-15', '2018-06-22'],\n",
              "      dtype='datetime64[D]')"
            ]
          },
          "metadata": {
            "tags": []
          },
          "execution_count": 14
        }
      ]
    },
    {
      "cell_type": "markdown",
      "metadata": {
        "id": "amHC_K6jJGr7",
        "colab_type": "text"
      },
      "source": [
        "By omitting the step value we can obtain every value based on the precision."
      ]
    },
    {
      "cell_type": "code",
      "metadata": {
        "id": "b72QqqmfJGr8",
        "colab_type": "code",
        "colab": {
          "base_uri": "https://localhost:8080/",
          "height": 51
        },
        "outputId": "18c603e1-3a95-41b8-c063-a976534aaf20"
      },
      "source": [
        "# AN ARRAY OF DATES FOR EVERY YEAR FROM 1968 TO 1975\n",
        "np.arange('1968', '1976', dtype='datetime64[Y]')"
      ],
      "execution_count": 15,
      "outputs": [
        {
          "output_type": "execute_result",
          "data": {
            "text/plain": [
              "array(['1968', '1969', '1970', '1971', '1972', '1973', '1974', '1975'],\n",
              "      dtype='datetime64[Y]')"
            ]
          },
          "metadata": {
            "tags": []
          },
          "execution_count": 15
        }
      ]
    },
    {
      "cell_type": "markdown",
      "metadata": {
        "id": "Zg4iteJhJGr-",
        "colab_type": "text"
      },
      "source": [
        "## Pandas Datetime Index\n",
        "\n",
        "We'll usually deal with time series as a datetime index when working with pandas dataframes. Fortunately pandas has a lot of functions and methods to work with time series!<br>\n",
        "For more on the pandas DatetimeIndex visit https://pandas.pydata.org/pandas-docs/stable/timeseries.html"
      ]
    },
    {
      "cell_type": "code",
      "metadata": {
        "id": "Gn56oAoBJGr_",
        "colab_type": "code",
        "colab": {}
      },
      "source": [
        "import pandas as pd"
      ],
      "execution_count": 0,
      "outputs": []
    },
    {
      "cell_type": "markdown",
      "metadata": {
        "id": "DCn6-jRUJGsD",
        "colab_type": "text"
      },
      "source": [
        "The simplest way to build a DatetimeIndex is with the <tt><strong>pd.date_range()</strong></tt> method:"
      ]
    },
    {
      "cell_type": "code",
      "metadata": {
        "id": "G1owyUvhJGsD",
        "colab_type": "code",
        "colab": {
          "base_uri": "https://localhost:8080/",
          "height": 68
        },
        "outputId": "eb3df6bd-5bce-43bf-e179-5014382821d8"
      },
      "source": [
        "# THE WEEK OF JULY 8TH, 2018\n",
        "idx = pd.date_range('7/8/2018', periods=7, freq='D')\n",
        "idx"
      ],
      "execution_count": 17,
      "outputs": [
        {
          "output_type": "execute_result",
          "data": {
            "text/plain": [
              "DatetimeIndex(['2018-07-08', '2018-07-09', '2018-07-10', '2018-07-11',\n",
              "               '2018-07-12', '2018-07-13', '2018-07-14'],\n",
              "              dtype='datetime64[ns]', freq='D')"
            ]
          },
          "metadata": {
            "tags": []
          },
          "execution_count": 17
        }
      ]
    },
    {
      "cell_type": "markdown",
      "metadata": {
        "id": "RE6MJWFhJGsH",
        "colab_type": "text"
      },
      "source": [
        "<div class=\"alert alert-info\"><strong>DatetimeIndex Frequencies:</strong> When we used <tt>pd.date_range()</tt> above, we had to pass in a frequency parameter <tt>'D'</tt>. This created a series of 7 dates spaced one day apart. We'll cover this topic in depth in upcoming lectures, but for now, a list of time series offset aliases like <tt>'D'</tt> can be found <a href='http://pandas.pydata.org/pandas-docs/stable/user_guide/timeseries.html#offset-aliases'>here</a>.</div>"
      ]
    },
    {
      "cell_type": "markdown",
      "metadata": {
        "id": "hjIGh2Q8JGsI",
        "colab_type": "text"
      },
      "source": [
        "Another way is to convert incoming text with the <tt><strong>pd.to_datetime()</strong></tt> method:"
      ]
    },
    {
      "cell_type": "code",
      "metadata": {
        "id": "Gj3_6iIqJGsJ",
        "colab_type": "code",
        "colab": {
          "base_uri": "https://localhost:8080/",
          "height": 34
        },
        "outputId": "548f41ea-55e7-4b84-e142-31f47dfab63b"
      },
      "source": [
        "idx = pd.to_datetime(['Jan 01, 2018','1/2/18','03-Jan-2018',None])\n",
        "idx"
      ],
      "execution_count": 18,
      "outputs": [
        {
          "output_type": "execute_result",
          "data": {
            "text/plain": [
              "DatetimeIndex(['2018-01-01', '2018-01-02', '2018-01-03', 'NaT'], dtype='datetime64[ns]', freq=None)"
            ]
          },
          "metadata": {
            "tags": []
          },
          "execution_count": 18
        }
      ]
    },
    {
      "cell_type": "markdown",
      "metadata": {
        "id": "odGH0nyzJGsQ",
        "colab_type": "text"
      },
      "source": [
        "A third way is to pass a list or an array of datetime objects into the <tt><strong>pd.DatetimeIndex()</strong></tt> method:"
      ]
    },
    {
      "cell_type": "code",
      "metadata": {
        "id": "wShcU4fnJGsR",
        "colab_type": "code",
        "colab": {
          "base_uri": "https://localhost:8080/",
          "height": 34
        },
        "outputId": "c007194a-2ad8-4dec-eb50-f5ba2783686a"
      },
      "source": [
        "# Create a NumPy datetime array\n",
        "some_dates = np.array(['2016-03-15', '2017-05-24', '2018-08-09'], dtype='datetime64[D]')\n",
        "some_dates"
      ],
      "execution_count": 20,
      "outputs": [
        {
          "output_type": "execute_result",
          "data": {
            "text/plain": [
              "array(['2016-03-15', '2017-05-24', '2018-08-09'], dtype='datetime64[D]')"
            ]
          },
          "metadata": {
            "tags": []
          },
          "execution_count": 20
        }
      ]
    },
    {
      "cell_type": "code",
      "metadata": {
        "id": "YtyDIQqUJGsT",
        "colab_type": "code",
        "colab": {
          "base_uri": "https://localhost:8080/",
          "height": 34
        },
        "outputId": "ba0de582-5b50-4d4c-f92f-4f238999f7e4"
      },
      "source": [
        "# Convert to an index\n",
        "idx = pd.DatetimeIndex(some_dates)\n",
        "idx"
      ],
      "execution_count": 21,
      "outputs": [
        {
          "output_type": "execute_result",
          "data": {
            "text/plain": [
              "DatetimeIndex(['2016-03-15', '2017-05-24', '2018-08-09'], dtype='datetime64[ns]', freq=None)"
            ]
          },
          "metadata": {
            "tags": []
          },
          "execution_count": 21
        }
      ]
    },
    {
      "cell_type": "markdown",
      "metadata": {
        "id": "XRUUNdXzJGsW",
        "colab_type": "text"
      },
      "source": [
        "Notice that even though the dates came into pandas with a day-level precision, pandas assigns a nanosecond-level precision with the expectation that we might want this later on.\n",
        "\n",
        "To set an existing column as the index, use <tt>.set_index()</tt><br>\n",
        "><tt>df.set_index('Date',inplace=True)</tt>"
      ]
    },
    {
      "cell_type": "markdown",
      "metadata": {
        "id": "mOF0n0wvJGsY",
        "colab_type": "text"
      },
      "source": [
        "## Pandas Datetime Analysis"
      ]
    },
    {
      "cell_type": "code",
      "metadata": {
        "id": "APIQ_SgVJGsZ",
        "colab_type": "code",
        "colab": {
          "base_uri": "https://localhost:8080/",
          "height": 68
        },
        "outputId": "3d1ca14d-5e61-4637-bfbc-3ecf222e807a"
      },
      "source": [
        "# Create some random data\n",
        "data = np.random.randn(3,2)\n",
        "cols = ['A','B']\n",
        "print(data)"
      ],
      "execution_count": 22,
      "outputs": [
        {
          "output_type": "stream",
          "text": [
            "[[-1.33731073  0.60703476]\n",
            " [-0.01221159 -0.07546261]\n",
            " [-0.55502431 -0.13384296]]\n"
          ],
          "name": "stdout"
        }
      ]
    },
    {
      "cell_type": "code",
      "metadata": {
        "id": "AX7qWNNOJGsd",
        "colab_type": "code",
        "colab": {
          "base_uri": "https://localhost:8080/",
          "height": 142
        },
        "outputId": "79ae6b7c-ca10-4880-8b59-f297e1cf6764"
      },
      "source": [
        "# Create a DataFrame with our random data, our date index, and our columns\n",
        "df = pd.DataFrame(data,idx,cols)\n",
        "df"
      ],
      "execution_count": 24,
      "outputs": [
        {
          "output_type": "execute_result",
          "data": {
            "text/html": [
              "<div>\n",
              "<style scoped>\n",
              "    .dataframe tbody tr th:only-of-type {\n",
              "        vertical-align: middle;\n",
              "    }\n",
              "\n",
              "    .dataframe tbody tr th {\n",
              "        vertical-align: top;\n",
              "    }\n",
              "\n",
              "    .dataframe thead th {\n",
              "        text-align: right;\n",
              "    }\n",
              "</style>\n",
              "<table border=\"1\" class=\"dataframe\">\n",
              "  <thead>\n",
              "    <tr style=\"text-align: right;\">\n",
              "      <th></th>\n",
              "      <th>A</th>\n",
              "      <th>B</th>\n",
              "    </tr>\n",
              "  </thead>\n",
              "  <tbody>\n",
              "    <tr>\n",
              "      <th>2016-03-15</th>\n",
              "      <td>-1.337311</td>\n",
              "      <td>0.607035</td>\n",
              "    </tr>\n",
              "    <tr>\n",
              "      <th>2017-05-24</th>\n",
              "      <td>-0.012212</td>\n",
              "      <td>-0.075463</td>\n",
              "    </tr>\n",
              "    <tr>\n",
              "      <th>2018-08-09</th>\n",
              "      <td>-0.555024</td>\n",
              "      <td>-0.133843</td>\n",
              "    </tr>\n",
              "  </tbody>\n",
              "</table>\n",
              "</div>"
            ],
            "text/plain": [
              "                   A         B\n",
              "2016-03-15 -1.337311  0.607035\n",
              "2017-05-24 -0.012212 -0.075463\n",
              "2018-08-09 -0.555024 -0.133843"
            ]
          },
          "metadata": {
            "tags": []
          },
          "execution_count": 24
        }
      ]
    },
    {
      "cell_type": "markdown",
      "metadata": {
        "id": "YVOE3Ox2JGsf",
        "colab_type": "text"
      },
      "source": [
        "Now we can perform a typical analysis of our DataFrame"
      ]
    },
    {
      "cell_type": "code",
      "metadata": {
        "id": "aHE-akCbJGsg",
        "colab_type": "code",
        "colab": {},
        "outputId": "069dbcfc-7f47-4806-ba31-4785913ab0be"
      },
      "source": [
        "df.index"
      ],
      "execution_count": 0,
      "outputs": [
        {
          "output_type": "execute_result",
          "data": {
            "text/plain": [
              "DatetimeIndex(['2016-03-15', '2017-05-24', '2018-08-09'], dtype='datetime64[ns]', freq=None)"
            ]
          },
          "metadata": {
            "tags": []
          },
          "execution_count": 22
        }
      ]
    },
    {
      "cell_type": "code",
      "metadata": {
        "id": "lHxWVBpxJGsl",
        "colab_type": "code",
        "colab": {},
        "outputId": "b4f38b5b-137f-4dae-c161-25393d112aa8"
      },
      "source": [
        "# Latest Date Value\n",
        "df.index.max()"
      ],
      "execution_count": 0,
      "outputs": [
        {
          "output_type": "execute_result",
          "data": {
            "text/plain": [
              "Timestamp('2018-08-09 00:00:00')"
            ]
          },
          "metadata": {
            "tags": []
          },
          "execution_count": 23
        }
      ]
    },
    {
      "cell_type": "code",
      "metadata": {
        "id": "Pg-7JB02JGso",
        "colab_type": "code",
        "colab": {},
        "outputId": "a96c98eb-e276-49ab-dc9b-ff2e8fe45b51"
      },
      "source": [
        "# Latest Date Index Location\n",
        "df.index.argmax()"
      ],
      "execution_count": 0,
      "outputs": [
        {
          "output_type": "execute_result",
          "data": {
            "text/plain": [
              "2"
            ]
          },
          "metadata": {
            "tags": []
          },
          "execution_count": 24
        }
      ]
    },
    {
      "cell_type": "code",
      "metadata": {
        "id": "2qcqXb1cJGsq",
        "colab_type": "code",
        "colab": {},
        "outputId": "9eef6f22-9223-4326-fea8-89b52e68fe04"
      },
      "source": [
        "# Earliest Date Value\n",
        "df.index.min()"
      ],
      "execution_count": 0,
      "outputs": [
        {
          "output_type": "execute_result",
          "data": {
            "text/plain": [
              "Timestamp('2016-03-15 00:00:00')"
            ]
          },
          "metadata": {
            "tags": []
          },
          "execution_count": 25
        }
      ]
    },
    {
      "cell_type": "code",
      "metadata": {
        "id": "u2A7n9zvJGss",
        "colab_type": "code",
        "colab": {},
        "outputId": "3ab55e0e-12d5-4957-9a76-7175af33b2a8"
      },
      "source": [
        "# Earliest Date Index Location\n",
        "df.index.argmin()"
      ],
      "execution_count": 0,
      "outputs": [
        {
          "output_type": "execute_result",
          "data": {
            "text/plain": [
              "0"
            ]
          },
          "metadata": {
            "tags": []
          },
          "execution_count": 26
        }
      ]
    },
    {
      "cell_type": "markdown",
      "metadata": {
        "id": "G23EYFcqJGtP",
        "colab_type": "text"
      },
      "source": [
        "<div class=\"alert alert-info\"><strong>NOTE:</strong> Normally we would find index locations by running <tt>.idxmin()</tt> or <tt>.idxmax()</tt> on <tt>df['column']</tt> since <tt>.argmin()</tt> and <tt>.argmax()</tt> have been deprecated. However, we still use <tt>.argmin()</tt> and <tt>.argmax()</tt> on the index itself.</div>"
      ]
    },
    {
      "cell_type": "markdown",
      "metadata": {
        "id": "-g0h2OwzJGtR",
        "colab_type": "text"
      },
      "source": [
        "## Great, let's move on!"
      ]
    }
  ]
}